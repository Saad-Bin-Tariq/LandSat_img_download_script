{
 "cells": [
  {
   "cell_type": "code",
   "execution_count": 2,
   "id": "270fde18",
   "metadata": {},
   "outputs": [
    {
     "name": "stdout",
     "output_type": "stream",
     "text": [
      "Requirement already satisfied: geemap in c:\\users\\saad bin tariq\\miniconda3\\envs\\pygee\\lib\\site-packages (0.22.1)\n",
      "Requirement already satisfied: bqplot in c:\\users\\saad bin tariq\\miniconda3\\envs\\pygee\\lib\\site-packages (from geemap) (0.12.39)\n",
      "Requirement already satisfied: colour in c:\\users\\saad bin tariq\\miniconda3\\envs\\pygee\\lib\\site-packages (from geemap) (0.1.5)\n",
      "Requirement already satisfied: earthengine-api>=0.1.347 in c:\\users\\saad bin tariq\\miniconda3\\envs\\pygee\\lib\\site-packages (from geemap) (0.1.355)\n",
      "Requirement already satisfied: eerepr>=0.0.4 in c:\\users\\saad bin tariq\\miniconda3\\envs\\pygee\\lib\\site-packages (from geemap) (0.0.4)\n",
      "Requirement already satisfied: folium>=0.13.0 in c:\\users\\saad bin tariq\\miniconda3\\envs\\pygee\\lib\\site-packages (from geemap) (0.14.0)\n",
      "Requirement already satisfied: geocoder in c:\\users\\saad bin tariq\\miniconda3\\envs\\pygee\\lib\\site-packages (from geemap) (1.38.1)\n",
      "Requirement already satisfied: ipyevents in c:\\users\\saad bin tariq\\miniconda3\\envs\\pygee\\lib\\site-packages (from geemap) (2.0.1)\n",
      "Requirement already satisfied: ipyfilechooser>=0.6.0 in c:\\users\\saad bin tariq\\miniconda3\\envs\\pygee\\lib\\site-packages (from geemap) (0.6.0)\n",
      "Requirement already satisfied: ipyleaflet>=0.17.0 in c:\\users\\saad bin tariq\\miniconda3\\envs\\pygee\\lib\\site-packages (from geemap) (0.17.3)\n",
      "Requirement already satisfied: ipytree in c:\\users\\saad bin tariq\\miniconda3\\envs\\pygee\\lib\\site-packages (from geemap) (0.2.2)\n",
      "Requirement already satisfied: matplotlib in c:\\users\\saad bin tariq\\miniconda3\\envs\\pygee\\lib\\site-packages (from geemap) (3.7.1)\n",
      "Requirement already satisfied: numpy in c:\\users\\saad bin tariq\\miniconda3\\envs\\pygee\\lib\\site-packages (from geemap) (1.24.3)\n",
      "Requirement already satisfied: pandas in c:\\users\\saad bin tariq\\miniconda3\\envs\\pygee\\lib\\site-packages (from geemap) (1.5.3)\n",
      "Requirement already satisfied: plotly in c:\\users\\saad bin tariq\\miniconda3\\envs\\pygee\\lib\\site-packages (from geemap) (5.14.1)\n",
      "Requirement already satisfied: pyperclip in c:\\users\\saad bin tariq\\miniconda3\\envs\\pygee\\lib\\site-packages (from geemap) (1.8.2)\n",
      "Requirement already satisfied: pyshp>=2.1.3 in c:\\users\\saad bin tariq\\miniconda3\\envs\\pygee\\lib\\site-packages (from geemap) (2.3.1)\n",
      "Requirement already satisfied: python-box in c:\\users\\saad bin tariq\\miniconda3\\envs\\pygee\\lib\\site-packages (from geemap) (6.0.2)\n",
      "Requirement already satisfied: scooby in c:\\users\\saad bin tariq\\miniconda3\\envs\\pygee\\lib\\site-packages (from geemap) (0.7.2)\n",
      "Requirement already satisfied: google-cloud-storage in c:\\users\\saad bin tariq\\miniconda3\\envs\\pygee\\lib\\site-packages (from earthengine-api>=0.1.347->geemap) (2.9.0)\n",
      "Requirement already satisfied: google-api-python-client>=1.12.1 in c:\\users\\saad bin tariq\\miniconda3\\envs\\pygee\\lib\\site-packages (from earthengine-api>=0.1.347->geemap) (2.88.0)\n",
      "Requirement already satisfied: google-auth>=1.4.1 in c:\\users\\saad bin tariq\\miniconda3\\envs\\pygee\\lib\\site-packages (from earthengine-api>=0.1.347->geemap) (1.35.0)\n",
      "Requirement already satisfied: google-auth-httplib2>=0.0.3 in c:\\users\\saad bin tariq\\miniconda3\\envs\\pygee\\lib\\site-packages (from earthengine-api>=0.1.347->geemap) (0.1.0)\n",
      "Requirement already satisfied: httplib2<1dev,>=0.9.2 in c:\\users\\saad bin tariq\\miniconda3\\envs\\pygee\\lib\\site-packages (from earthengine-api>=0.1.347->geemap) (0.22.0)\n",
      "Requirement already satisfied: requests in c:\\users\\saad bin tariq\\miniconda3\\envs\\pygee\\lib\\site-packages (from earthengine-api>=0.1.347->geemap) (2.31.0)\n",
      "Requirement already satisfied: branca>=0.6.0 in c:\\users\\saad bin tariq\\miniconda3\\envs\\pygee\\lib\\site-packages (from folium>=0.13.0->geemap) (0.6.0)\n",
      "Requirement already satisfied: jinja2>=2.9 in c:\\users\\saad bin tariq\\miniconda3\\envs\\pygee\\lib\\site-packages (from folium>=0.13.0->geemap) (3.1.2)\n",
      "Requirement already satisfied: ipywidgets in c:\\users\\saad bin tariq\\miniconda3\\envs\\pygee\\lib\\site-packages (from ipyfilechooser>=0.6.0->geemap) (8.0.6)\n",
      "Requirement already satisfied: traittypes<3,>=0.2.1 in c:\\users\\saad bin tariq\\miniconda3\\envs\\pygee\\lib\\site-packages (from ipyleaflet>=0.17.0->geemap) (0.2.1)\n",
      "Requirement already satisfied: xyzservices>=2021.8.1 in c:\\users\\saad bin tariq\\miniconda3\\envs\\pygee\\lib\\site-packages (from ipyleaflet>=0.17.0->geemap) (2023.5.0)\n",
      "Requirement already satisfied: traitlets>=4.3.0 in c:\\users\\saad bin tariq\\miniconda3\\envs\\pygee\\lib\\site-packages (from bqplot->geemap) (5.7.1)\n",
      "Requirement already satisfied: python-dateutil>=2.8.1 in c:\\users\\saad bin tariq\\miniconda3\\envs\\pygee\\lib\\site-packages (from pandas->geemap) (2.8.2)\n",
      "Requirement already satisfied: pytz>=2020.1 in c:\\users\\saad bin tariq\\miniconda3\\envs\\pygee\\lib\\site-packages (from pandas->geemap) (2023.3)\n",
      "Requirement already satisfied: ratelim in c:\\users\\saad bin tariq\\miniconda3\\envs\\pygee\\lib\\site-packages (from geocoder->geemap) (0.1.6)\n",
      "Requirement already satisfied: click in c:\\users\\saad bin tariq\\miniconda3\\envs\\pygee\\lib\\site-packages (from geocoder->geemap) (8.1.3)\n",
      "Requirement already satisfied: six in c:\\users\\saad bin tariq\\miniconda3\\envs\\pygee\\lib\\site-packages (from geocoder->geemap) (1.16.0)\n",
      "Requirement already satisfied: future in c:\\users\\saad bin tariq\\miniconda3\\envs\\pygee\\lib\\site-packages (from geocoder->geemap) (0.18.3)\n",
      "Requirement already satisfied: contourpy>=1.0.1 in c:\\users\\saad bin tariq\\miniconda3\\envs\\pygee\\lib\\site-packages (from matplotlib->geemap) (1.0.5)\n",
      "Requirement already satisfied: cycler>=0.10 in c:\\users\\saad bin tariq\\miniconda3\\envs\\pygee\\lib\\site-packages (from matplotlib->geemap) (0.11.0)\n",
      "Requirement already satisfied: fonttools>=4.22.0 in c:\\users\\saad bin tariq\\miniconda3\\envs\\pygee\\lib\\site-packages (from matplotlib->geemap) (4.25.0)\n",
      "Requirement already satisfied: kiwisolver>=1.0.1 in c:\\users\\saad bin tariq\\miniconda3\\envs\\pygee\\lib\\site-packages (from matplotlib->geemap) (1.4.4)\n",
      "Requirement already satisfied: packaging>=20.0 in c:\\users\\saad bin tariq\\miniconda3\\envs\\pygee\\lib\\site-packages (from matplotlib->geemap) (23.0)\n",
      "Requirement already satisfied: pillow>=6.2.0 in c:\\users\\saad bin tariq\\miniconda3\\envs\\pygee\\lib\\site-packages (from matplotlib->geemap) (9.4.0)\n",
      "Requirement already satisfied: pyparsing>=2.3.1 in c:\\users\\saad bin tariq\\miniconda3\\envs\\pygee\\lib\\site-packages (from matplotlib->geemap) (3.0.9)\n",
      "Requirement already satisfied: tenacity>=6.2.0 in c:\\users\\saad bin tariq\\miniconda3\\envs\\pygee\\lib\\site-packages (from plotly->geemap) (8.2.2)\n",
      "Requirement already satisfied: google-api-core!=2.0.*,!=2.1.*,!=2.2.*,!=2.3.0,<3.0.0dev,>=1.31.5 in c:\\users\\saad bin tariq\\miniconda3\\envs\\pygee\\lib\\site-packages (from google-api-python-client>=1.12.1->earthengine-api>=0.1.347->geemap) (2.8.2)\n",
      "Requirement already satisfied: uritemplate<5,>=3.0.1 in c:\\users\\saad bin tariq\\miniconda3\\envs\\pygee\\lib\\site-packages (from google-api-python-client>=1.12.1->earthengine-api>=0.1.347->geemap) (4.1.1)\n",
      "Requirement already satisfied: cachetools<5.0,>=2.0.0 in c:\\users\\saad bin tariq\\miniconda3\\envs\\pygee\\lib\\site-packages (from google-auth>=1.4.1->earthengine-api>=0.1.347->geemap) (4.2.4)\n",
      "Requirement already satisfied: pyasn1-modules>=0.2.1 in c:\\users\\saad bin tariq\\miniconda3\\envs\\pygee\\lib\\site-packages (from google-auth>=1.4.1->earthengine-api>=0.1.347->geemap) (0.2.7)\n",
      "Requirement already satisfied: setuptools>=40.3.0 in c:\\users\\saad bin tariq\\miniconda3\\envs\\pygee\\lib\\site-packages (from google-auth>=1.4.1->earthengine-api>=0.1.347->geemap) (67.8.0)\n",
      "Requirement already satisfied: rsa<5,>=3.1.4 in c:\\users\\saad bin tariq\\miniconda3\\envs\\pygee\\lib\\site-packages (from google-auth>=1.4.1->earthengine-api>=0.1.347->geemap) (4.9)\n",
      "Requirement already satisfied: ipykernel>=4.5.1 in c:\\users\\saad bin tariq\\miniconda3\\envs\\pygee\\lib\\site-packages (from ipywidgets->ipyfilechooser>=0.6.0->geemap) (6.19.2)\n",
      "Requirement already satisfied: ipython>=6.1.0 in c:\\users\\saad bin tariq\\miniconda3\\envs\\pygee\\lib\\site-packages (from ipywidgets->ipyfilechooser>=0.6.0->geemap) (8.12.0)\n",
      "Requirement already satisfied: widgetsnbextension~=4.0.7 in c:\\users\\saad bin tariq\\miniconda3\\envs\\pygee\\lib\\site-packages (from ipywidgets->ipyfilechooser>=0.6.0->geemap) (4.0.7)\n",
      "Requirement already satisfied: jupyterlab-widgets~=3.0.7 in c:\\users\\saad bin tariq\\miniconda3\\envs\\pygee\\lib\\site-packages (from ipywidgets->ipyfilechooser>=0.6.0->geemap) (3.0.7)\n",
      "Requirement already satisfied: MarkupSafe>=2.0 in c:\\users\\saad bin tariq\\miniconda3\\envs\\pygee\\lib\\site-packages (from jinja2>=2.9->folium>=0.13.0->geemap) (2.1.1)\n",
      "Requirement already satisfied: colorama in c:\\users\\saad bin tariq\\miniconda3\\envs\\pygee\\lib\\site-packages (from click->geocoder->geemap) (0.4.6)\n",
      "Requirement already satisfied: google-cloud-core<3.0dev,>=2.3.0 in c:\\users\\saad bin tariq\\miniconda3\\envs\\pygee\\lib\\site-packages (from google-cloud-storage->earthengine-api>=0.1.347->geemap) (2.3.2)\n",
      "Requirement already satisfied: google-resumable-media>=2.3.2 in c:\\users\\saad bin tariq\\miniconda3\\envs\\pygee\\lib\\site-packages (from google-cloud-storage->earthengine-api>=0.1.347->geemap) (2.5.0)\n",
      "Requirement already satisfied: charset-normalizer<4,>=2 in c:\\users\\saad bin tariq\\miniconda3\\envs\\pygee\\lib\\site-packages (from requests->earthengine-api>=0.1.347->geemap) (2.0.4)\n",
      "Requirement already satisfied: idna<4,>=2.5 in c:\\users\\saad bin tariq\\miniconda3\\envs\\pygee\\lib\\site-packages (from requests->earthengine-api>=0.1.347->geemap) (3.4)\n",
      "Requirement already satisfied: urllib3<3,>=1.21.1 in c:\\users\\saad bin tariq\\miniconda3\\envs\\pygee\\lib\\site-packages (from requests->earthengine-api>=0.1.347->geemap) (2.0.2)\n",
      "Requirement already satisfied: certifi>=2017.4.17 in c:\\users\\saad bin tariq\\miniconda3\\envs\\pygee\\lib\\site-packages (from requests->earthengine-api>=0.1.347->geemap) (2023.5.7)\n",
      "Requirement already satisfied: decorator in c:\\users\\saad bin tariq\\miniconda3\\envs\\pygee\\lib\\site-packages (from ratelim->geocoder->geemap) (5.1.1)\n",
      "Requirement already satisfied: googleapis-common-protos<2.0dev,>=1.56.2 in c:\\users\\saad bin tariq\\miniconda3\\envs\\pygee\\lib\\site-packages (from google-api-core!=2.0.*,!=2.1.*,!=2.2.*,!=2.3.0,<3.0.0dev,>=1.31.5->google-api-python-client>=1.12.1->earthengine-api>=0.1.347->geemap) (1.57.1)\n",
      "Requirement already satisfied: protobuf<5.0.0dev,>=3.15.0 in c:\\users\\saad bin tariq\\miniconda3\\envs\\pygee\\lib\\site-packages (from google-api-core!=2.0.*,!=2.1.*,!=2.2.*,!=2.3.0,<3.0.0dev,>=1.31.5->google-api-python-client>=1.12.1->earthengine-api>=0.1.347->geemap) (3.20.3)\n",
      "Requirement already satisfied: google-crc32c<2.0dev,>=1.0 in c:\\users\\saad bin tariq\\miniconda3\\envs\\pygee\\lib\\site-packages (from google-resumable-media>=2.3.2->google-cloud-storage->earthengine-api>=0.1.347->geemap) (1.5.0)\n",
      "Requirement already satisfied: comm>=0.1.1 in c:\\users\\saad bin tariq\\miniconda3\\envs\\pygee\\lib\\site-packages (from ipykernel>=4.5.1->ipywidgets->ipyfilechooser>=0.6.0->geemap) (0.1.2)\n",
      "Requirement already satisfied: debugpy>=1.0 in c:\\users\\saad bin tariq\\miniconda3\\envs\\pygee\\lib\\site-packages (from ipykernel>=4.5.1->ipywidgets->ipyfilechooser>=0.6.0->geemap) (1.5.1)\n",
      "Requirement already satisfied: jupyter-client>=6.1.12 in c:\\users\\saad bin tariq\\miniconda3\\envs\\pygee\\lib\\site-packages (from ipykernel>=4.5.1->ipywidgets->ipyfilechooser>=0.6.0->geemap) (8.1.0)\n",
      "Requirement already satisfied: matplotlib-inline>=0.1 in c:\\users\\saad bin tariq\\miniconda3\\envs\\pygee\\lib\\site-packages (from ipykernel>=4.5.1->ipywidgets->ipyfilechooser>=0.6.0->geemap) (0.1.6)\n",
      "Requirement already satisfied: nest-asyncio in c:\\users\\saad bin tariq\\miniconda3\\envs\\pygee\\lib\\site-packages (from ipykernel>=4.5.1->ipywidgets->ipyfilechooser>=0.6.0->geemap) (1.5.6)\n",
      "Requirement already satisfied: psutil in c:\\users\\saad bin tariq\\miniconda3\\envs\\pygee\\lib\\site-packages (from ipykernel>=4.5.1->ipywidgets->ipyfilechooser>=0.6.0->geemap) (5.9.0)\n",
      "Requirement already satisfied: pyzmq>=17 in c:\\users\\saad bin tariq\\miniconda3\\envs\\pygee\\lib\\site-packages (from ipykernel>=4.5.1->ipywidgets->ipyfilechooser>=0.6.0->geemap) (25.0.2)\n",
      "Requirement already satisfied: tornado>=6.1 in c:\\users\\saad bin tariq\\miniconda3\\envs\\pygee\\lib\\site-packages (from ipykernel>=4.5.1->ipywidgets->ipyfilechooser>=0.6.0->geemap) (6.2)\n",
      "Requirement already satisfied: backcall in c:\\users\\saad bin tariq\\miniconda3\\envs\\pygee\\lib\\site-packages (from ipython>=6.1.0->ipywidgets->ipyfilechooser>=0.6.0->geemap) (0.2.0)\n",
      "Requirement already satisfied: jedi>=0.16 in c:\\users\\saad bin tariq\\miniconda3\\envs\\pygee\\lib\\site-packages (from ipython>=6.1.0->ipywidgets->ipyfilechooser>=0.6.0->geemap) (0.18.1)\n",
      "Requirement already satisfied: pickleshare in c:\\users\\saad bin tariq\\miniconda3\\envs\\pygee\\lib\\site-packages (from ipython>=6.1.0->ipywidgets->ipyfilechooser>=0.6.0->geemap) (0.7.5)\n",
      "Requirement already satisfied: prompt-toolkit!=3.0.37,<3.1.0,>=3.0.30 in c:\\users\\saad bin tariq\\miniconda3\\envs\\pygee\\lib\\site-packages (from ipython>=6.1.0->ipywidgets->ipyfilechooser>=0.6.0->geemap) (3.0.36)\n",
      "Requirement already satisfied: pygments>=2.4.0 in c:\\users\\saad bin tariq\\miniconda3\\envs\\pygee\\lib\\site-packages (from ipython>=6.1.0->ipywidgets->ipyfilechooser>=0.6.0->geemap) (2.15.1)\n",
      "Requirement already satisfied: stack-data in c:\\users\\saad bin tariq\\miniconda3\\envs\\pygee\\lib\\site-packages (from ipython>=6.1.0->ipywidgets->ipyfilechooser>=0.6.0->geemap) (0.2.0)\n",
      "Requirement already satisfied: pyasn1<0.5.0,>=0.4.6 in c:\\users\\saad bin tariq\\miniconda3\\envs\\pygee\\lib\\site-packages (from pyasn1-modules>=0.2.1->google-auth>=1.4.1->earthengine-api>=0.1.347->geemap) (0.4.8)\n",
      "Requirement already satisfied: parso<0.9.0,>=0.8.0 in c:\\users\\saad bin tariq\\miniconda3\\envs\\pygee\\lib\\site-packages (from jedi>=0.16->ipython>=6.1.0->ipywidgets->ipyfilechooser>=0.6.0->geemap) (0.8.3)\n",
      "Requirement already satisfied: jupyter-core!=5.0.*,>=4.12 in c:\\users\\saad bin tariq\\miniconda3\\envs\\pygee\\lib\\site-packages (from jupyter-client>=6.1.12->ipykernel>=4.5.1->ipywidgets->ipyfilechooser>=0.6.0->geemap) (5.3.0)\n",
      "Requirement already satisfied: wcwidth in c:\\users\\saad bin tariq\\miniconda3\\envs\\pygee\\lib\\site-packages (from prompt-toolkit!=3.0.37,<3.1.0,>=3.0.30->ipython>=6.1.0->ipywidgets->ipyfilechooser>=0.6.0->geemap) (0.2.5)\n",
      "Requirement already satisfied: executing in c:\\users\\saad bin tariq\\miniconda3\\envs\\pygee\\lib\\site-packages (from stack-data->ipython>=6.1.0->ipywidgets->ipyfilechooser>=0.6.0->geemap) (0.8.3)\n",
      "Requirement already satisfied: asttokens in c:\\users\\saad bin tariq\\miniconda3\\envs\\pygee\\lib\\site-packages (from stack-data->ipython>=6.1.0->ipywidgets->ipyfilechooser>=0.6.0->geemap) (2.0.5)\n",
      "Requirement already satisfied: pure-eval in c:\\users\\saad bin tariq\\miniconda3\\envs\\pygee\\lib\\site-packages (from stack-data->ipython>=6.1.0->ipywidgets->ipyfilechooser>=0.6.0->geemap) (0.2.2)\n",
      "Requirement already satisfied: platformdirs>=2.5 in c:\\users\\saad bin tariq\\miniconda3\\envs\\pygee\\lib\\site-packages (from jupyter-core!=5.0.*,>=4.12->jupyter-client>=6.1.12->ipykernel>=4.5.1->ipywidgets->ipyfilechooser>=0.6.0->geemap) (2.5.2)\n",
      "Requirement already satisfied: pywin32>=300 in c:\\users\\saad bin tariq\\miniconda3\\envs\\pygee\\lib\\site-packages (from jupyter-core!=5.0.*,>=4.12->jupyter-client>=6.1.12->ipykernel>=4.5.1->ipywidgets->ipyfilechooser>=0.6.0->geemap) (305.1)\n"
     ]
    }
   ],
   "source": [
    "!pip install geemap\n"
   ]
  },
  {
   "cell_type": "code",
   "execution_count": 19,
   "id": "0916c7c1",
   "metadata": {
    "scrolled": true
   },
   "outputs": [
    {
     "name": "stdout",
     "output_type": "stream",
     "text": [
      "Requirement already satisfied: earthengine-api in c:\\users\\saad bin tariq\\miniconda3\\envs\\pygee\\lib\\site-packages (0.1.355)Note: you may need to restart the kernel to use updated packages.\n",
      "\n",
      "Requirement already satisfied: google-cloud-storage in c:\\users\\saad bin tariq\\miniconda3\\envs\\pygee\\lib\\site-packages (from earthengine-api) (2.9.0)\n",
      "Requirement already satisfied: google-api-python-client>=1.12.1 in c:\\users\\saad bin tariq\\miniconda3\\envs\\pygee\\lib\\site-packages (from earthengine-api) (2.88.0)\n",
      "Requirement already satisfied: google-auth>=1.4.1 in c:\\users\\saad bin tariq\\miniconda3\\envs\\pygee\\lib\\site-packages (from earthengine-api) (1.35.0)\n",
      "Requirement already satisfied: google-auth-httplib2>=0.0.3 in c:\\users\\saad bin tariq\\miniconda3\\envs\\pygee\\lib\\site-packages (from earthengine-api) (0.1.0)\n",
      "Requirement already satisfied: httplib2<1dev,>=0.9.2 in c:\\users\\saad bin tariq\\miniconda3\\envs\\pygee\\lib\\site-packages (from earthengine-api) (0.22.0)\n",
      "Requirement already satisfied: requests in c:\\users\\saad bin tariq\\miniconda3\\envs\\pygee\\lib\\site-packages (from earthengine-api) (2.31.0)\n",
      "Requirement already satisfied: google-api-core!=2.0.*,!=2.1.*,!=2.2.*,!=2.3.0,<3.0.0dev,>=1.31.5 in c:\\users\\saad bin tariq\\miniconda3\\envs\\pygee\\lib\\site-packages (from google-api-python-client>=1.12.1->earthengine-api) (2.8.2)\n",
      "Requirement already satisfied: uritemplate<5,>=3.0.1 in c:\\users\\saad bin tariq\\miniconda3\\envs\\pygee\\lib\\site-packages (from google-api-python-client>=1.12.1->earthengine-api) (4.1.1)\n",
      "Requirement already satisfied: cachetools<5.0,>=2.0.0 in c:\\users\\saad bin tariq\\miniconda3\\envs\\pygee\\lib\\site-packages (from google-auth>=1.4.1->earthengine-api) (4.2.4)\n",
      "Requirement already satisfied: pyasn1-modules>=0.2.1 in c:\\users\\saad bin tariq\\miniconda3\\envs\\pygee\\lib\\site-packages (from google-auth>=1.4.1->earthengine-api) (0.2.7)\n",
      "Requirement already satisfied: setuptools>=40.3.0 in c:\\users\\saad bin tariq\\miniconda3\\envs\\pygee\\lib\\site-packages (from google-auth>=1.4.1->earthengine-api) (67.8.0)\n",
      "Requirement already satisfied: six>=1.9.0 in c:\\users\\saad bin tariq\\miniconda3\\envs\\pygee\\lib\\site-packages (from google-auth>=1.4.1->earthengine-api) (1.16.0)\n",
      "Requirement already satisfied: rsa<5,>=3.1.4 in c:\\users\\saad bin tariq\\miniconda3\\envs\\pygee\\lib\\site-packages (from google-auth>=1.4.1->earthengine-api) (4.9)\n",
      "Requirement already satisfied: pyparsing!=3.0.0,!=3.0.1,!=3.0.2,!=3.0.3,<4,>=2.4.2 in c:\\users\\saad bin tariq\\miniconda3\\envs\\pygee\\lib\\site-packages (from httplib2<1dev,>=0.9.2->earthengine-api) (3.0.9)\n",
      "Requirement already satisfied: google-cloud-core<3.0dev,>=2.3.0 in c:\\users\\saad bin tariq\\miniconda3\\envs\\pygee\\lib\\site-packages (from google-cloud-storage->earthengine-api) (2.3.2)\n",
      "Requirement already satisfied: google-resumable-media>=2.3.2 in c:\\users\\saad bin tariq\\miniconda3\\envs\\pygee\\lib\\site-packages (from google-cloud-storage->earthengine-api) (2.5.0)\n",
      "Requirement already satisfied: charset-normalizer<4,>=2 in c:\\users\\saad bin tariq\\miniconda3\\envs\\pygee\\lib\\site-packages (from requests->earthengine-api) (2.0.4)\n",
      "Requirement already satisfied: idna<4,>=2.5 in c:\\users\\saad bin tariq\\miniconda3\\envs\\pygee\\lib\\site-packages (from requests->earthengine-api) (3.4)\n",
      "Requirement already satisfied: urllib3<3,>=1.21.1 in c:\\users\\saad bin tariq\\miniconda3\\envs\\pygee\\lib\\site-packages (from requests->earthengine-api) (2.0.2)\n",
      "Requirement already satisfied: certifi>=2017.4.17 in c:\\users\\saad bin tariq\\miniconda3\\envs\\pygee\\lib\\site-packages (from requests->earthengine-api) (2023.5.7)\n",
      "Requirement already satisfied: googleapis-common-protos<2.0dev,>=1.56.2 in c:\\users\\saad bin tariq\\miniconda3\\envs\\pygee\\lib\\site-packages (from google-api-core!=2.0.*,!=2.1.*,!=2.2.*,!=2.3.0,<3.0.0dev,>=1.31.5->google-api-python-client>=1.12.1->earthengine-api) (1.57.1)\n",
      "Requirement already satisfied: protobuf<5.0.0dev,>=3.15.0 in c:\\users\\saad bin tariq\\miniconda3\\envs\\pygee\\lib\\site-packages (from google-api-core!=2.0.*,!=2.1.*,!=2.2.*,!=2.3.0,<3.0.0dev,>=1.31.5->google-api-python-client>=1.12.1->earthengine-api) (3.20.3)\n",
      "Requirement already satisfied: google-crc32c<2.0dev,>=1.0 in c:\\users\\saad bin tariq\\miniconda3\\envs\\pygee\\lib\\site-packages (from google-resumable-media>=2.3.2->google-cloud-storage->earthengine-api) (1.5.0)\n",
      "Requirement already satisfied: pyasn1<0.5.0,>=0.4.6 in c:\\users\\saad bin tariq\\miniconda3\\envs\\pygee\\lib\\site-packages (from pyasn1-modules>=0.2.1->google-auth>=1.4.1->earthengine-api) (0.4.8)\n"
     ]
    }
   ],
   "source": [
    "pip install earthengine-api\n"
   ]
  },
  {
   "cell_type": "code",
   "execution_count": 1,
   "id": "bfc3e492",
   "metadata": {},
   "outputs": [],
   "source": [
    "import ee\n",
    "import geemap"
   ]
  },
  {
   "cell_type": "code",
   "execution_count": 2,
   "id": "ea5864d3",
   "metadata": {},
   "outputs": [
    {
     "data": {
      "text/html": [
       "<p>To authorize access needed by Earth Engine, open the following\n",
       "        URL in a web browser and follow the instructions:</p>\n",
       "        <p><a href=https://code.earthengine.google.com/client-auth?scopes=https%3A//www.googleapis.com/auth/earthengine%20https%3A//www.googleapis.com/auth/devstorage.full_control&request_id=t7jnjqTJrwmpZbhyqdrtY6T5UYMvu5SuYtR24P9-i8U&tc=SU1iGzZtuUM6M0t5PZlgteXn9E4mKsJJwwwQvtHALrE&cc=mflh_0RwAVt_oxC2lblA1KRQA8CKRGKjv7kmkunMS3A>https://code.earthengine.google.com/client-auth?scopes=https%3A//www.googleapis.com/auth/earthengine%20https%3A//www.googleapis.com/auth/devstorage.full_control&request_id=t7jnjqTJrwmpZbhyqdrtY6T5UYMvu5SuYtR24P9-i8U&tc=SU1iGzZtuUM6M0t5PZlgteXn9E4mKsJJwwwQvtHALrE&cc=mflh_0RwAVt_oxC2lblA1KRQA8CKRGKjv7kmkunMS3A</a></p>\n",
       "        <p>The authorization workflow will generate a code, which you should paste in the box below.</p>\n",
       "        "
      ],
      "text/plain": [
       "<IPython.core.display.HTML object>"
      ]
     },
     "metadata": {},
     "output_type": "display_data"
    },
    {
     "name": "stdout",
     "output_type": "stream",
     "text": [
      "Enter verification code: 4/1AbUR2VMAaF7U1CV146E0c4Uii0Vq4t0fapxeAA2Kscec4WYgSGd-A74dc-c\n",
      "\n",
      "Successfully saved authorization token.\n"
     ]
    }
   ],
   "source": [
    "ee.Authenticate()"
   ]
  },
  {
   "cell_type": "code",
   "execution_count": 2,
   "id": "13518781",
   "metadata": {},
   "outputs": [],
   "source": [
    "ee.Initialize()"
   ]
  },
  {
   "cell_type": "markdown",
   "id": "14a9c287",
   "metadata": {},
   "source": [
    "# Parameters\n"
   ]
  },
  {
   "cell_type": "code",
   "execution_count": 55,
   "id": "412a6b14",
   "metadata": {},
   "outputs": [],
   "source": [
    "file_name = \"isb_landsat\"     #name of the file export (landSat Image)\n",
    "pak_district = \"Islamabad\"    #name of district (for which data is required)\n",
    "date_start = \"2020-01-01\"      #start date for data acquisition\n",
    "date_end = \"2021-01-01\"        #last date for data acquisition"
   ]
  },
  {
   "cell_type": "code",
   "execution_count": 60,
   "id": "efc19529",
   "metadata": {},
   "outputs": [],
   "source": [
    "Map=geemap.Map()\n",
    "country=ee.FeatureCollection(\"USDOS/LSIB_SIMPLE/2017\");\n",
    "pak=ee.FeatureCollection(\"projects/ee-cep2/assets/Pak_adm3\");\n",
    "\n",
    "roi=pak.filter(ee.Filter.eq(\"NAME_3\",pak_district));\n",
    "Map.addLayer(roi,{},file_name)\n",
    "Map.centerObject(roi,11);\n",
    "\n",
    "#getting image collection\n",
    "landsat = ee.ImageCollection(\"LANDSAT/LC08/C01/T1\")\\\n",
    ".filterDate(date_start, date_end)\\\n",
    ".filterBounds(roi)\\\n",
    ".sort('CLOUD_COVER')\n",
    "\n",
    "\n",
    "composite = ee.Algorithms.Landsat.simpleComposite(**{\n",
    "    'collection':landsat,\n",
    "    'asFloat': True\n",
    "})\n",
    "#Clipping img on the ROI\n",
    "clipped_com = composite.clip(roi)\n",
    "\n",
    "#setting bands for composite visuallization\n",
    "rgbvis={'bands':[\"B4\",\"B3\",\"B2\"], 'min':0, 'max':0.3}\n",
    "\n",
    "#adding LandSat Image as layer\n",
    "Map.addLayer(clipped_com, rgbvis, \"Landsat Img\")\n",
    "Map\n",
    "\n"
   ]
  },
  {
   "cell_type": "code",
   "execution_count": 57,
   "id": "2f1dd92d",
   "metadata": {
    "scrolled": true
   },
   "outputs": [
    {
     "name": "stdout",
     "output_type": "stream",
     "text": [
      "{'bands': [{'crs': 'EPSG:4326',\n",
      "            'crs_transform': [1, 0, 0, 0, 1, 0],\n",
      "            'data_type': {'precision': 'float', 'type': 'PixelType'},\n",
      "            'id': 'B1'},\n",
      "           {'crs': 'EPSG:4326',\n",
      "            'crs_transform': [1, 0, 0, 0, 1, 0],\n",
      "            'data_type': {'precision': 'float', 'type': 'PixelType'},\n",
      "            'id': 'B2'},\n",
      "           {'crs': 'EPSG:4326',\n",
      "            'crs_transform': [1, 0, 0, 0, 1, 0],\n",
      "            'data_type': {'precision': 'float', 'type': 'PixelType'},\n",
      "            'id': 'B3'},\n",
      "           {'crs': 'EPSG:4326',\n",
      "            'crs_transform': [1, 0, 0, 0, 1, 0],\n",
      "            'data_type': {'precision': 'float', 'type': 'PixelType'},\n",
      "            'id': 'B4'},\n",
      "           {'crs': 'EPSG:4326',\n",
      "            'crs_transform': [1, 0, 0, 0, 1, 0],\n",
      "            'data_type': {'precision': 'float', 'type': 'PixelType'},\n",
      "            'id': 'B5'},\n",
      "           {'crs': 'EPSG:4326',\n",
      "            'crs_transform': [1, 0, 0, 0, 1, 0],\n",
      "            'data_type': {'precision': 'float', 'type': 'PixelType'},\n",
      "            'id': 'B6'},\n",
      "           {'crs': 'EPSG:4326',\n",
      "            'crs_transform': [1, 0, 0, 0, 1, 0],\n",
      "            'data_type': {'precision': 'float', 'type': 'PixelType'},\n",
      "            'id': 'B7'},\n",
      "           {'crs': 'EPSG:4326',\n",
      "            'crs_transform': [1, 0, 0, 0, 1, 0],\n",
      "            'data_type': {'precision': 'float', 'type': 'PixelType'},\n",
      "            'id': 'B8'},\n",
      "           {'crs': 'EPSG:4326',\n",
      "            'crs_transform': [1, 0, 0, 0, 1, 0],\n",
      "            'data_type': {'precision': 'float', 'type': 'PixelType'},\n",
      "            'id': 'B9'},\n",
      "           {'crs': 'EPSG:4326',\n",
      "            'crs_transform': [1, 0, 0, 0, 1, 0],\n",
      "            'data_type': {'precision': 'float', 'type': 'PixelType'},\n",
      "            'id': 'B10'},\n",
      "           {'crs': 'EPSG:4326',\n",
      "            'crs_transform': [1, 0, 0, 0, 1, 0],\n",
      "            'data_type': {'precision': 'float', 'type': 'PixelType'},\n",
      "            'id': 'B11'}],\n",
      " 'type': 'Image'}\n"
     ]
    }
   ],
   "source": [
    "from pprint import pprint\n",
    "pprint(clipped_com.getInfo())"
   ]
  },
  {
   "cell_type": "code",
   "execution_count": 58,
   "id": "fabf8adf",
   "metadata": {},
   "outputs": [],
   "source": [
    "#exporting image\n",
    "task = ee.batch.Export.image.toDrive(\n",
    "    image=clipped_com,\n",
    "    description=file_name,\n",
    "    folder='GISdata_cep',    #chamge folder as required\n",
    "    region=roi.geometry(),\n",
    "    scale=30\n",
    ")\n",
    "task.start()\n",
    "\n"
   ]
  },
  {
   "cell_type": "code",
   "execution_count": 59,
   "id": "dc6a2688",
   "metadata": {},
   "outputs": [
    {
     "name": "stdout",
     "output_type": "stream",
     "text": [
      "Exporting image to Google Drive...\n",
      "Exporting...\n",
      "Exporting...\n",
      "Exporting...\n",
      "Exporting...\n",
      "Exporting...\n",
      "Exporting...\n",
      "Exporting...\n",
      "Exporting...\n",
      "Exporting...\n",
      "Exporting...\n",
      "Exporting...\n",
      "Exporting...\n",
      "Exporting...\n",
      "Export completed.\n"
     ]
    }
   ],
   "source": [
    "#run to check status of Export to Drive\n",
    "import time\n",
    "print('Exporting image to Google Drive...')\n",
    "while task.status()['state'] == 'RUNNING':\n",
    "    print('Exporting...')\n",
    "    time.sleep(20)\n",
    "print('Export completed.')"
   ]
  },
  {
   "cell_type": "code",
   "execution_count": null,
   "id": "b8f700a5",
   "metadata": {
    "scrolled": true
   },
   "outputs": [],
   "source": [
    "\n"
   ]
  },
  {
   "cell_type": "code",
   "execution_count": 45,
   "id": "43f2d5c3",
   "metadata": {},
   "outputs": [],
   "source": []
  },
  {
   "cell_type": "code",
   "execution_count": null,
   "id": "581b2150",
   "metadata": {},
   "outputs": [],
   "source": []
  },
  {
   "cell_type": "code",
   "execution_count": null,
   "id": "62b690f6",
   "metadata": {},
   "outputs": [],
   "source": []
  }
 ],
 "metadata": {
  "kernelspec": {
   "display_name": "Python 3 (ipykernel)",
   "language": "python",
   "name": "python3"
  },
  "language_info": {
   "codemirror_mode": {
    "name": "ipython",
    "version": 3
   },
   "file_extension": ".py",
   "mimetype": "text/x-python",
   "name": "python",
   "nbconvert_exporter": "python",
   "pygments_lexer": "ipython3",
   "version": "3.11.3"
  }
 },
 "nbformat": 4,
 "nbformat_minor": 5
}
